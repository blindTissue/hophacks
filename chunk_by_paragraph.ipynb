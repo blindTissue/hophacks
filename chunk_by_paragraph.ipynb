{
 "cells": [
  {
   "cell_type": "code",
   "execution_count": 1,
   "metadata": {},
   "outputs": [],
   "source": [
    "import PyPDF2\n",
    "import os"
   ]
  },
  {
   "cell_type": "code",
   "execution_count": 2,
   "metadata": {},
   "outputs": [],
   "source": [
    "def get_text(path):\n",
    "    reader = PyPDF2.PdfReader(path)\n",
    "    text=\"\"\n",
    "    for page in reader.pages:\n",
    "        text += page.extract_text().lower()\n",
    "    return text"
   ]
  },
  {
   "cell_type": "code",
   "execution_count": 3,
   "metadata": {},
   "outputs": [],
   "source": [
    "whole_text = get_text(\"attention_paper.pdf\")\n",
    "path = os.path.join(\"pdf_save\", \"1607.06450.pdf\")\n",
    "whole_text = get_text(path)\n",
    "whole_text = whole_text.split(\"references\")[0]"
   ]
  },
  {
   "cell_type": "code",
   "execution_count": 4,
   "metadata": {},
   "outputs": [
    {
     "name": "stdout",
     "output_type": "stream",
     "text": [
      "240\n"
     ]
    }
   ],
   "source": [
    "# find max length of blurb without newline\n",
    "max_len = 0\n",
    "for line in whole_text.split(\"\\n\"):\n",
    "    if len(line) > max_len:\n",
    "        max_len = len(line)\n",
    "\n",
    "print(max_len)"
   ]
  },
  {
   "cell_type": "code",
   "execution_count": 5,
   "metadata": {},
   "outputs": [],
   "source": [
    "# split when there is a newline and the line is less than half of the max length\n",
    "blurb_list = []\n",
    "blurb = \"\"\n",
    "for line in whole_text.split(\"\\n\"):\n",
    "    if len(line) < max_len/3:\n",
    "        if blurb != \"\":\n",
    "            blurb += line.lower()\n",
    "            blurb_list.append(blurb)\n",
    "        blurb = \"\"\n",
    "    else:\n",
    "        # lowercase and remove punctuation\n",
    "        line = line.lower()\n",
    "        blurb += line + \" \"\n"
   ]
  },
  {
   "cell_type": "code",
   "execution_count": 6,
   "metadata": {},
   "outputs": [
    {
     "name": "stdout",
     "output_type": "stream",
     "text": [
      "training state-of-the-art, deep neural networks is computationally expensive. one way to reduce the training time is to normalize the activities of the neurons. a recently introduced technique called batch normalization uses the distribution of the summed input to a neuron over a mini-batch of training cases to compute a\n",
      "\n",
      "neuron on each training case. this signiﬁcantly reduces the training time in feed- forward neural networks. however, the effect of batch normalization is dependent on the mini-batch size and it is not obvious how to apply it to recurrent neural net- works. in this paper, we transpose batch normalization into layer normalization by computing the mean and variance used for normalization from all of the summed\n",
      "\n",
      "inputs to the neurons in a layer on a single training case. like batch normalization, we also give each neuron its own adaptive bias and gain which are applied after\n",
      "\n",
      "the normalization but before the non-linearity. unlike batch normalization, layer normalization performs exactly the same computation at training and test times.\n",
      "\n",
      "it is also straightforward to apply to recurrent neural networks by computing the normalization statistics separately at each time step. layer normalization is very effective at stabilizing the hidden state dynamics in recurrent networks. empiri- cally, we show that layer normalization can substantially reduce the training time compared with previously published techniques.\n",
      "\n",
      "deep neural networks trained with some version of stochastic gradient descent have been shown to substantially outperform previous approaches on various supervised learning tasks in computer vision [krizhevsky et al., 2012] and speech processing [hinton et al., 2012]. but state-of-the-art deep neural networks often require many days of training. it is possible to speed-up the learning by computing gradients for different subsets of the training cases on different machines or splitting the neural network itself over many machines [dean et al., 2012], but this can require a lot of com- munication and complex software. it also tends to lead to rapidly diminishing returns as the degree of parallelization increases. an orthogonal approach is to modify the computations performed in the forward pass of the neural net to make learning easier. recently, batch normalization [ioffe and szegedy, 2015] has been proposed to reduce training time by including additional normalization stages in deep neural networks. the normalization standardizes each summed input using its mean and its standard deviation across the training data. feedforward neural networks trained using batch normalization converge faster even with simple sgd. in addition to training time improvement, the stochasticity from the batch statistics serves as a regularizer during training. despite its simplicity, batch normalization requires running averages of the summed input statis- tics. in feed-forward networks with ﬁxed depth, it is straightforward to store the statistics separately for each hidden layer. however, the summed inputs to the recurrent neurons in a recurrent neu- ral network (rnn) often vary with the length of the sequence so applying batch normalization to rnns appears to require different statistics for different time-steps. furthermore, batch normaliza-arxiv:1607.06450v1  [stat.ml]  21 jul 2016tion cannot be applied to online learning tasks or to extremely large distributed models where the minibatches have to be small.\n",
      "\n",
      "this paper introduces layer normalization, a simple normalization method to improve the training speed for various neural network models. unlike batch normalization, the proposed method directly estimates the normalization statistics from the summed inputs to the neurons within a hidden layer so the normalization does not introduce any new dependencies between training cases. we show that layer normalization works well for rnns and improves both the training time and the generalization performance of several existing rnn models.\n",
      "\n",
      "a feed-forward neural network is a non-linear mapping from a input pattern xto an output vector y. consider the lthhidden layer in a deep feed-forward, neural network, and let albe the vector representation of the summed inputs to the neurons in that layer. the summed inputs are computed through a linear projection with the weight matrix wland the bottom-up inputs hlgiven as follows: al\n",
      "\n",
      "iis the scalar bias parameter. the parameters in the neural network are learnt using gradient-based optimization algorithms with the gradients being computed by back-propagation. one of the challenges of deep learning is that the gradients with respect to the weights in one layer are highly dependent on the outputs of the neurons in the previous layer especially if these outputs change in a highly correlated way. batch normalization [ioffe and szegedy, 2015] was proposed to reduce such undesirable “covariate shift”. the method normalizes the summed inputs to each hidden unit over the training cases. speciﬁcally, for the ithsummed input in the lthlayer, the batch normalization method rescales the summed inputs according to their variances under the distribution of the data\n",
      "\n",
      "iis normalized summed inputs to the ithhidden unit in the lthlayer andgiis a gain parame- ter scaling the normalized activation before the non-linear activation function. note the expectation is under the whole training data distribution. it is typically impractical to compute the expectations in eq. (2) exactly, since it would require forward passes through the whole training dataset with the current set of weights. instead, \u0016and\u001bare estimated using the empirical samples from the current mini-batch. this puts constraints on the size of a mini-batch and it is hard to apply to recurrent neural networks.\n",
      "\n",
      "we now consider the layer normalization method which is designed to overcome the drawbacks of batch normalization.\n",
      "\n",
      "notice that changes in the output of one layer will tend to cause highly correlated changes in the summed inputs to the next layer, especially with relu units whose outputs can change by a lot. this suggests the “covariate shift” problem can be reduced by ﬁxing the mean and the variance of the summed inputs within each layer. we, thus, compute the layer normalization statistics over all the hidden units in the same layer as follows:\n",
      "\n",
      "wherehdenotes the number of hidden units in a layer. the difference between eq. (2) and eq. (3) is that under layer normalization, all the hidden units in a layer share the same normalization terms \u0016and\u001b, but different training cases have different normalization terms. unlike batch normalization, layer normaliztion does not impose any constraint on the size of a mini-batch and it can be used in the pure online regime with batch size 1.\n",
      "\n",
      "the recent sequence to sequence models [sutskever et al., 2014] utilize compact recurrent neural networks to solve sequential prediction problems in natural language processing. it is common among the nlp tasks to have different sentence lengths for different training cases. this is easy to deal with in an rnn because the same weights are used at every time-step. but when we apply batch normalization to an rnn in the obvious way, we need to to compute and store separate statistics for each time step in a sequence. this is problematic if a test sequence is longer than any of the training sequences. layer normalization does not have such problem because its normalization terms depend only on the summed inputs to a layer at the current time-step. it also has only one set of gain and bias parameters shared over all time-steps.\n",
      "\n",
      "in a standard rnn, the summed inputs in the recurrent layer are computed from the current input xtand previous vector of hidden states ht\u00001which are computed as at=whhht\u00001+wxhxt. the layer normalized recurrent layer re-centers and re-scales its activations using the extra normalization terms similar to eq. (3):\n",
      "\n",
      "wherewhhis the recurrent hidden to hidden weights and wxhare the bottom up input to hidden weights.\fis the element-wise multiplication between two vectors. bandgare deﬁned as the bias and gain parameters of the same dimension as ht.\n",
      "\n",
      "in a standard rnn, there is a tendency for the average magnitude of the summed inputs to the recur- rent units to either grow or shrink at every time-step, leading to exploding or vanishing gradients. in a layer normalized rnn, the normalization terms make it invariant to re-scaling all of the summed inputs to a layer, which results in much more stable hidden-to-hidden dynamics.\n",
      "\n",
      "batch normalization has been previously extended to recurrent neural networks [laurent et al., 2015, amodei et al., 2015, cooijmans et al., 2016]. the previous work [cooijmans et al., 2016] suggests the best performance of recurrent batch normalization is obtained by keeping independent normal- ization statistics for each time-step. the authors show that initializing the gain parameter in the recurrent batch normalization layer to 0.1 makes signiﬁcant difference in the ﬁnal performance of the model. our work is also related to weight normalization [salimans and kingma, 2016]. in weight normalization, instead of the variance, the l2 norm of the incoming weights is used to normalize the summed inputs to a neuron. applying either weight normalization or batch normal- ization using expected statistics is equivalent to have a different parameterization of the original feed-forward neural network. re-parameterization in the relu network was studied in the path- normalized sgd [neyshabur et al., 2015]. our proposed layer normalization method, however, is not a re-parameterization of the original neural network. the layer normalized model, thus, has different invariance properties than the other methods, that we will study in the following section. 5 analysis\n",
      "\n",
      "in this section, we investigate the invariance properties of different normalization schemes. 5.1 invariance under weights and data transformations\n",
      "\n",
      "the proposed layer normalization is related to batch normalization and weight normalization. al- though, their normalization scalars are computed differently, these methods can be summarized as normalizing the summed inputs aito a neuron through the two scalars \u0016and\u001b. they also learn an adaptive bias band gaingfor each neuron after the normalization.\n",
      "\n",
      "note that for layer normalization and batch normalization, \u0016and\u001bis computed according to eq. 2 and 3. in weight normalization, \u0016is 0, and\u001b=kwk2.\n",
      "\n",
      ">. under layer normalization, the two models effectively compute the same output:ds. weight re-scaling and re-centering: first, observe that under batch normalization and weight normalization, any re-scaling to the incoming weights wiof a single neuron has no effect on the normalized summed inputs to a neuron. to be precise, under batch and weight normalization, if the weight vector is scaled by \u000e, the two scalar \u0016and\u001bwill also be scaled by \u000e. the normalized summed inputs stays the same before and after scaling. so the batch and weight normalization are invariant to the re-scaling of the weights. layer normalization, on the other hand, is not invariant to the individual scaling of the single weight vectors. instead, layer normalization is invariant to scaling of the entire weight matrix and invariant to a shift to all of the incoming weights in the weight matrix. let there be two sets of model parameters \u0012,\u00120whose weight matrices wandw0 differ by a scaling factor \u000eand all of the incoming weights in w0are also shifted by a constant vector \n",
      "\n",
      "notice that if normalization is only applied to the input before the weights, the model will not be invariant to re-scaling and re-centering of the weights.\n",
      "\n",
      "data re-scaling and re-centering: we can show that all the normalization methods are invariant to re-scaling the dataset by verifying that the summed inputs of neurons stays constant under the changes. furthermore, layer normalization is invariant to re-scaling of individual training cases, because the normalization scalars \u0016and\u001bin eq. (3) only depend on the current input data. let x0 be a new data point obtained by re-scaling xby\u000e. then we have,\n",
      "\n",
      "it is easy to see re-scaling individual data points does not change the model’s prediction under layer normalization. similar to the re-centering of the weight matrix in layer normalization, we can also show that batch normalization is invariant to re-centering of the dataset.\n",
      "\n",
      "we have investigated the invariance of the model’s prediction under re-centering and re-scaling of the parameters. learning, however, can behave very differently under different parameterizations, even though the models express the same underlying function. in this section, we analyze learning behavior through the geometry and the manifold of the parameter space. we show that the normal- ization scalar \u001bcan implicitly reduce learning rate and makes learning more stable. 5.2.1 riemannian metric\n",
      "\n",
      "the learnable parameters in a statistical model form a smooth manifold that consists of all possible input-output relations of the model. for models whose output is a probability distribution, a natural way to measure the separation of two points on this manifold is the kullback-leibler divergence between their model output distributions. under the kl divergence metric, the parameter space is a riemannian manifold.\n",
      "\n",
      "the curvature of a riemannian manifold is entirely captured by its riemannian metric, whose quadratic form is denoted as ds2. that is the inﬁnitesimal distance in the tangent space at a point in the parameter space. intuitively, it measures the changes in the model output from the parameter space along a tangent direction. the riemannian metric under kl was previously studied [amari, 1998] and was shown to be well approximated under second order taylor expansion using the fisher 4information matrix:\n",
      "\n",
      "where,\u000eis a small change to the parameters. the riemannian metric above presents a geometric view of parameter spaces. the following analysis of the riemannian metric provides some insight into how normalization methods could help in training neural networks.\n",
      "\n",
      "we focus our geometric analysis on the generalized linear model. the results from the following analysis can be easily applied to understand deep neural networks with block-diagonal approxima- tion to the fisher information matrix, where each block corresponds to the parameters for a single neuron.\n",
      "\n",
      "a generalized linear model (glm) can be regarded as parameterizing an output distribution from the exponential family using a weight vector wand bias scalar b. to be consistent with the previous sections, the log likelihood of the glm can be written using the summed inputs aas the following: logp(yjx;w;b) =(a+b)y\u0000\u0011(a+b)\n",
      "\n",
      "where,f(\u0001)is the transfer function that is the analog of the non-linearity in neural networks, f0(\u0001) is the derivative of the transfer function, \u0011(\u0001)is a real valued function and c(\u0001)is the log parti- tion function. \u001eis a constant that scales the output variance. assume a h-dimensional output vector y= [y1;y2;\u0001\u0001\u0001;yh]is modeled using hindependent glms and logp(yjx;w;b) =ph i=1logp(yijx;wi;bi). letwbe the weight matrix whose rows are the weight vectors of the individual glms, bdenote the bias vector of length handvec(\u0001)denote the kronecker vector op- erator. the fisher information matrix for the multi-dimensional glm with respect to its parameters \u0012= [w>\n",
      "\n",
      "we obtain normalized glms by applying the normalization methods to the summed inputs ain the original model through \u0016and\u001b. without loss of generality, we denote \u0016fas the fisher infor- mation matrix under the normalized multi-dimensional glm with the additional gain parameters \u0012= vec([w;b;g]>):\n",
      "\n",
      "implicit learning rate reduction through the growth of the weight vector: notice that, com- paring to standard glm, the block \u0016fijalong the weight vector widirection is scaled by the gain parameters and the normalization scalar \u001bi. if the norm of the weight vector wigrows twice as large, even though the model’s output remains the same, the fisher information matrix will be different. the curvature along the widirection will change by a factor of1\n",
      "\n",
      "as large. as a result, for the same parameter update in the normalized model, the norm of the weight vector effectively controls the learning rate for the weight vector. during learning, it is harder to change the orientation of the weight vector with large norm. the normalization methods, therefore, 5050100150200250300\n",
      "\n",
      "figure 1: recall@k curves using order-embeddings with and without layer normalization. mscoco\n",
      "\n",
      "table 2: average results across 5 test splits for caption and image retrieval. r@k is recall@k (high is good). mean ris the mean rank (low is good). sym corresponds to the symmetric baseline while oe indicates order-embeddings.\n",
      "\n",
      "have an implicit “early stopping” effect on the weight vectors and help to stabilize learning towards convergence.\n",
      "\n",
      "learning the magnitude of incoming weights: in normalized models, the magnitude of the incom- ing weights is explicitly parameterized by the gain parameters. we compare how the model output changes between updating the gain parameters in the normalized glm and updating the magnitude of the equivalent weights under original parameterization during learning. the direction along the gain parameters in \u0016fcaptures the geometry for the magnitude of the incoming weights. we show that riemannian metric along the magnitude of the incoming weights for the standard glm is scaled by the norm of its input, whereas learning the gain parameters for the batch normalized and layer normalized models depends only on the magnitude of the prediction error. learning the magnitude of incoming weights in the normalized model is therefore, more robust to the scaling of the input and its parameters than in the standard model. see appendix for detailed derivations. 6 experimental results\n",
      "\n",
      "we perform experiments with layer normalization on 6 tasks, with a focus on recurrent neural net- works: image-sentence ranking, question-answering, contextual language modelling, generative modelling, handwriting sequence generation and mnist classiﬁcation. unless otherwise noted, the default initialization of layer normalization is to set the adaptive gains to 1and the biases to 0in the experiments.\n",
      "\n",
      "in this experiment, we apply layer normalization to the recently proposed order-embeddings model of vendrov et al. [2016] for learning a joint embedding space of images and sentences. we follow the same experimental protocol as vendrov et al. [2016] and modify their publicly available code to incorporate layer normalization1which utilizes theano [team et al., 2016]. images and sen- tences from the microsoft coco dataset [lin et al., 2014] are embedded into a common vector space, where a gru [cho et al., 2014] is used to encode sentences and the outputs of a pre-trained vgg convnet [simonyan and zisserman, 2015] (10-crop) are used to encode images. the order- embedding model represents images and sentences as a 2-level partial ordering and replaces the cosine similarity scoring function used in kiros et al. [2014] with an asymmetric one. 1https://github.com/ivendrov/order-embedding\n",
      "\n",
      "training steps (thousands)0.40.50.60.70.80.91.0validation error rateattentive reader lstm\n",
      "\n",
      "ln-lstmfigure 2: validation curves for the attentive reader model. bn results are taken from [cooijmans et al., 2016].\n",
      "\n",
      "we trained two models: the baseline order-embedding model as well as the same model with layer normalization applied to the gru. after every 300 iterations, we compute recall@k (r@k) values on a held out validation set and save the model whenever r@k improves. the best performing models are then evaluated on 5 separate test sets, each containing 1000 images and 5000 captions, for which the mean results are reported. both models use adam [kingma and ba, 2014] with the same initial hyperparameters and both models are trained using the same architectural choices as used in vendrov et al. [2016]. we refer the reader to the appendix for a description of how layer normalization is applied to gru.\n",
      "\n",
      "figure 1illustrates the validation curves of the models, with and without layer normalization. we plot r@1, r@5 and r@10 for the image retrieval task. we observe that layer normalization offers a per-iteration speedup across all metrics and converges to its best validation model in 60% of the time it takes the baseline model to do so. in table 2, the test set results are reported from which we observe that layer normalization also results in improved generalization over the original model. the results we report are state-of-the-art for rnn embedding models, with only the structure-preserving model of wang et al. [2016] reporting better results on this task. however, they evaluate under different conditions (1 test set instead of the mean over 5) and are thus not directly comparable. 6.2 teaching machines to read and comprehend\n",
      "\n",
      "in order to compare layer normalization to the recently proposed recurrent batch normalization [cooijmans et al., 2016], we train an unidirectional attentive reader model on the cnn corpus both introduced by hermann et al. [2015]. this is a question-answering task where a query description about a passage must be answered by ﬁlling in a blank. the data is anonymized such that entities are given randomized tokens to prevent degenerate solutions, which are consistently permuted dur- ing training and evaluation. we follow the same experimental protocol as cooijmans et al. [2016] and modify their public code to incorporate layer normalization2which uses theano [team et al., 2016]. we obtained the pre-processed dataset used by cooijmans et al. [2016] which differs from the original experiments of hermann et al. [2015] in that each passage is limited to 4 sentences. in cooijmans et al. [2016], two variants of recurrent batch normalization are used: one where bn is only applied to the lstm while the other applies bn everywhere throughout the model. in our experiment, we only apply layer normalization within the lstm.\n",
      "\n",
      "the results of this experiment are shown in figure 2. we observe that layer normalization not only trains faster but converges to a better validation result over both the baseline and bn variants. in cooijmans et al. [2016], it is argued that the scale parameter in bn must be carefully chosen and is set to 0.1 in their experiments. we experimented with layer normalization for both 1.0 and 0.1 scale initialization and found that the former model performed signiﬁcantly better. this demonstrates that layer normalization is not sensitive to the initial scale in the same way that recurrent bn is.3 6.3 skip-thought vectors\n",
      "\n",
      "skip-thoughts [kiros et al., 2015] is a generalization of the skip-gram model [mikolov et al., 2013] for learning unsupervised distributed sentence representations. given contiguous text, a sentence is 2https://github.com/cooijmanstim/attentive_reader/tree/bn\n",
      "\n",
      "3we only produce results on the validation set, as in the case of cooijmans et al. [2016] 75 10 15 20\n",
      "\n",
      "figure 3: performance of skip-thought vectors with and without layer normalization on downstream tasks as a function of training iterations. the original lines are the reported results in [kiros et al., 2015]. plots with error use 10-fold cross validation. best seen in color.\n",
      "\n",
      "table 3: skip-thoughts results. the ﬁrst two evaluation columns indicate pearson and spearman cor- relation, the third is mean squared error and the remaining indicate classiﬁcation accuracy. higher is better for all evaluations except mse. our models were trained for 1m iterations with the exception of (y) which was trained for 1 month (approximately 1.7m iterations)\n",
      "\n",
      "encoded with a encoder rnn and decoder rnns are used to predict the surrounding sentences. kiros et al. [2015] showed that this model could produce generic sentence representations that perform well on several tasks without being ﬁne-tuned. however, training this model is time- consuming, requiring several days of training in order to produce meaningful results. in this experiment we determine to what effect layer normalization can speed up training. using the publicly available code of kiros et al. [2015]4, we train two models on the bookcorpus dataset [zhu et al., 2015]: one with and one without layer normalization. these experiments are performed with theano [team et al., 2016]. we adhere to the experimental setup used in kiros et al. [2015], training a 2400-dimensional sentence encoder with the same hyperparameters. given the size of the states used, it is conceivable layer normalization would produce slower per-iteration updates than without. however, we found that provided cnmem5is used, there was no signiﬁcant difference between the two models. we checkpoint both models after every 50,000 iterations and evaluate their performance on ﬁve tasks: semantic-relatedness (sick) [marelli et al., 2014], movie review sentiment (mr) [pang and lee, 2005], customer product reviews (cr) [hu and liu, 2004], subjectivity/objectivity classiﬁcation (subj) [pang and lee, 2004] and opinion polarity (mpqa) [wiebe et al., 2005]. we plot the performance of both models for each checkpoint on all tasks to determine whether the performance rate can be improved with ln.\n",
      "\n",
      "the experimental results are illustrated in figure 3. we observe that applying layer normalization results both in speedup over the baseline as well as better ﬁnal results after 1m iterations are per- formed as shown in table 3. we also let the model with layer normalization train for a total of a month, resulting in further performance gains across all but one task. we note that the performance 4https://github.com/ryankiros/skip-thoughts\n",
      "\n",
      "updates x 200−900−800−700−600−500−400−300−200−1000negative log likelihoodbaseline test baseline train\n",
      "\n",
      "ln trainfigure 5: handwriting sequence generation model negative log likelihood with and without layer normalization. the models are trained with mini-batch size of 8 and sequence length of 500, differences between the original reported results and ours are likely due to the fact that the publicly available code does not condition at each timestep of the decoder, where the original model does. 6.4 modeling binarized mnist using draw\n",
      "\n",
      "malization that the layer normalized draw converges almost twice as fast than the baseline model. after 200 epoches, the baseline model converges to a variational log likelihood of 82.36 nats on the test data and the layer normalization model obtains 82.09 nats.\n",
      "\n",
      "the previous experiments mostly examine rnns on nlp tasks whose lengths are in the range of 10 to 40. to show the effectiveness of layer normalization on longer sequences, we performed hand- writing generation tasks using the iam online handwriting database [liwicki and bunke, 2005]. iam-ondb consists of handwritten lines collected from 221 different writers. when given the input character string, the goal is to predict a sequence of x and y pen co-ordinates of the corresponding handwriting line on the whiteboard. there are, in total, 12179 handwriting line sequences. the input string is typically more than 25 characters and the average handwriting line has a length around 700. we used the same model architecture as in section (5.2) of graves [2013]. the model architecture consists of three hidden layers of 400 lstm cells, which produce 20 bivariate gaussian mixture components at the output layer, and a size 3 input layer. the character sequence was encoded with one-hot vectors, and hence the window vectors were size 57. a mixture of 10 gaussian functions was used for the window parameters, requiring a size 30 parameter vector. the total number of weights was increased to approximately 3.7m. the model is trained using mini-batches of size 8 and the adam [kingma and ba, 2014] optimizer.\n",
      "\n",
      "the combination of small mini-batch size and very long sequences makes it important to have very stable hidden dynamics. figure 5 shows that layer normalization converges to a comparable log likelihood as the baseline model but is much faster.\n",
      "\n",
      "batchnorm bz4figure 6: permutation invariant mnist 784-1000-1000-10 model negative log likelihood and test error with layer normalization and batch normalization. (left) the models are trained with batch- size of 128. (right) the models are trained with batch-size of 4.\n",
      "\n",
      "in addition to rnns, we investigated layer normalization in feed-forward networks. we show how layer normalization compares with batch normalization on the well-studied permutation invariant mnist classiﬁcation problem. from the previous analysis, layer normalization is invariant to input re-scaling which is desirable for the internal hidden layers. but this is unnecessary for the logit outputs where the prediction conﬁdence is determined by the scale of the logits. we only apply layer normalization to the fully-connected hidden layers that excludes the last softmax layer. all the models were trained using 55000 training data points and the adam [kingma and ba, 2014] optimizer. for the smaller batch-size, the variance term for batch normalization is computed using the unbiased estimator. the experimental results from figure 6 highlight that layer normalization is robust to the batch-sizes and exhibits a faster training convergence comparing to batch normalization that is applied to all layers.\n",
      "\n",
      "we have also experimented with convolutional neural networks. in our preliminary experiments, we observed that layer normalization offers a speedup over the baseline model without normalization, but batch normalization outperforms the other methods. with fully connected layers, all the hidden units in a layer tend to make similar contributions to the ﬁnal prediction and re-centering and re- scaling the summed inputs to a layer works well. however, the assumption of similar contributions is no longer true for convolutional neural networks. the large number of the hidden units whose receptive ﬁelds lie near the boundary of the image are rarely turned on and thus have very different statistics from the rest of the hidden units within the same layer. we think further research is needed to make layer normalization work well in convnets.\n",
      "\n",
      "in this paper, we introduced layer normalization to speed-up the training of neural networks. we provided a theoretical analysis that compared the invariance properties of layer normalization with batch normalization and weight normalization. we showed that layer normalization is invariant to per training-case feature shifting and scaling.\n",
      "\n",
      "empirically, we showed that recurrent neural networks beneﬁt the most from the proposed method especially for long sequences and small mini-batches.\n",
      "\n"
     ]
    }
   ],
   "source": [
    "for blurb in blurb_list:\n",
    "    print(blurb)\n",
    "    print(\"\")"
   ]
  },
  {
   "cell_type": "code",
   "execution_count": 7,
   "metadata": {},
   "outputs": [
    {
     "name": "stdout",
     "output_type": "stream",
     "text": [
      "63\n"
     ]
    }
   ],
   "source": [
    "print(len(blurb_list))"
   ]
  },
  {
   "cell_type": "code",
   "execution_count": 8,
   "metadata": {},
   "outputs": [],
   "source": [
    "from rank_bm25 import BM25Okapi\n",
    "tokenized_corpus = [doc.split(\" \") for doc in blurb_list]\n",
    "bm25 = BM25Okapi(tokenized_corpus)\n"
   ]
  },
  {
   "cell_type": "code",
   "execution_count": 9,
   "metadata": {},
   "outputs": [],
   "source": [
    "def bm25_search(query, corpus):\n",
    "    tokenized_corpus = [doc.split(\" \") for doc in corpus]\n",
    "    bm25 = BM25Okapi(tokenized_corpus)\n",
    "    query = query.lower()\n",
    "    tokenized_query = query.split(\" \")\n",
    "    doc_scores = bm25.get_scores(tokenized_query)\n",
    "    # get the index of the highest score\n",
    "\n",
    "    ranked_docs = [corpus[i] for i in sorted(range(len(doc_scores)), key=lambda i: doc_scores[i], reverse=True)]\n",
    "    return ranked_docs[0]"
   ]
  },
  {
   "cell_type": "code",
   "execution_count": 10,
   "metadata": {},
   "outputs": [
    {
     "name": "stdout",
     "output_type": "stream",
     "text": [
      "the proposed layer normalization is related to batch normalization and weight normalization. al- though, their normalization scalars are computed differently, these methods can be summarized as normalizing the summed inputs aito a neuron through the two scalars \u0016and\u001b. they also learn an adaptive bias band gaingfor each neuron after the normalization.\n"
     ]
    }
   ],
   "source": [
    "query = \"we employ a residual connection around each of the two sub-layesr, followed by layer normalization.\"\n",
    "print(bm25_search(query, blurb_list))"
   ]
  },
  {
   "cell_type": "code",
   "execution_count": 11,
   "metadata": {},
   "outputs": [],
   "source": [
    "from sentence_transformers import CrossEncoder, util\n",
    "def crossencoder_response(sentences, query):\n",
    "    cross_encoder = CrossEncoder('cross-encoder/ms-marco-MiniLM-L-6-v2')\n",
    "    cross_inp = [[query, sent] for sent in sentences]\n",
    "    cross_scores = cross_encoder.predict(cross_inp)\n",
    "    scores_and_sents = list(zip(cross_scores, sentences))\n",
    "    scores_and_sents.sort(reverse=True)\n",
    "    return scores_and_sents[0][1]"
   ]
  },
  {
   "cell_type": "code",
   "execution_count": 12,
   "metadata": {},
   "outputs": [
    {
     "name": "stdout",
     "output_type": "stream",
     "text": [
      "we have also experimented with convolutional neural networks. in our preliminary experiments, we observed that layer normalization offers a speedup over the baseline model without normalization, but batch normalization outperforms the other methods. with fully connected layers, all the hidden units in a layer tend to make similar contributions to the ﬁnal prediction and re-centering and re- scaling the summed inputs to a layer works well. however, the assumption of similar contributions is no longer true for convolutional neural networks. the large number of the hidden units whose receptive ﬁelds lie near the boundary of the image are rarely turned on and thus have very different statistics from the rest of the hidden units within the same layer. we think further research is needed to make layer normalization work well in convnets.\n"
     ]
    }
   ],
   "source": [
    "print(crossencoder_response(blurb_list, query))"
   ]
  },
  {
   "cell_type": "code",
   "execution_count": 3,
   "metadata": {},
   "outputs": [],
   "source": [
    "from reference_sentences import retrieve_reference_dicts\n",
    "from arxiv_num_extraction import get_arxiv_numbers_from_pdf\n",
    "reference_dicts = retrieve_reference_dicts('attention_paper.pdf')\n",
    "arxiv_nums = get_arxiv_numbers_from_pdf('attention_paper.pdf')\n",
    "\n",
    "\n"
   ]
  },
  {
   "cell_type": "code",
   "execution_count": 4,
   "metadata": {},
   "outputs": [
    {
     "data": {
      "text/plain": [
       "['1607.06450',\n",
       " '1409.0473',\n",
       " '1703.03906',\n",
       " '1601.06733',\n",
       " '1406.1078',\n",
       " '1610.02357',\n",
       " '1412.3555',\n",
       " None,\n",
       " '1705.03122v2',\n",
       " '1308.0850',\n",
       " None,\n",
       " None,\n",
       " None,\n",
       " None,\n",
       " '1602.02410',\n",
       " None,\n",
       " None,\n",
       " '1610.10099v2',\n",
       " None,\n",
       " None,\n",
       " '1703.10722',\n",
       " '1703.03130',\n",
       " '1511.06114',\n",
       " '1508.04025',\n",
       " None,\n",
       " None,\n",
       " None,\n",
       " '1705.04304',\n",
       " None,\n",
       " '1608.05859',\n",
       " '1508.07909',\n",
       " '1701.06538',\n",
       " None,\n",
       " None,\n",
       " None,\n",
       " '1512.00567',\n",
       " None,\n",
       " '1609.08144',\n",
       " '1606.04199',\n",
       " None]"
      ]
     },
     "execution_count": 4,
     "metadata": {},
     "output_type": "execute_result"
    }
   ],
   "source": []
  },
  {
   "cell_type": "code",
   "execution_count": null,
   "metadata": {},
   "outputs": [],
   "source": []
  }
 ],
 "metadata": {
  "kernelspec": {
   "display_name": "Python 3",
   "language": "python",
   "name": "python3"
  },
  "language_info": {
   "codemirror_mode": {
    "name": "ipython",
    "version": 3
   },
   "file_extension": ".py",
   "mimetype": "text/x-python",
   "name": "python",
   "nbconvert_exporter": "python",
   "pygments_lexer": "ipython3",
   "version": "3.11.3"
  },
  "orig_nbformat": 4
 },
 "nbformat": 4,
 "nbformat_minor": 2
}
