{
 "cells": [
  {
   "cell_type": "code",
   "execution_count": 1,
   "metadata": {},
   "outputs": [],
   "source": [
    "from PyPDF2 import PdfReader\n",
    "reader = PdfReader('attention_paper.pdf')\n",
    "\n",
    "pages = len(reader.pages)"
   ]
  },
  {
   "cell_type": "code",
   "execution_count": 2,
   "metadata": {},
   "outputs": [],
   "source": [
    "import re\n",
    "def adjust_bracket_spaces(s):\n",
    "    def replace_comma_spaces(match):\n",
    "        \"\"\"Function to replace spaces around commas in the matched string.\"\"\"\n",
    "        return re.sub(r'\\s*,\\s*', ', ', match.group())\n",
    "\n",
    "\n",
    "\n",
    "    # Remove spaces between brackets and single numbers\n",
    "    s_modified = re.sub(r'\\[\\s*(\\d+)\\s*\\]', r'[\\1]', s)\n",
    "\n",
    "    # Correct spaces around commas inside brackets using the helper function\n",
    "    s_modified = re.sub(r'\\[\\d+(\\s*,\\s*\\d+)+\\]', replace_comma_spaces, s_modified)\n",
    "\n",
    "    return s_modified"
   ]
  },
  {
   "cell_type": "code",
   "execution_count": 4,
   "metadata": {},
   "outputs": [
    {
     "name": "stdout",
     "output_type": "stream",
     "text": [
      "1 Introduction Recurrent neural networks, long short-term memory [13] and gated recurrent [7] neural networks in particular, have been firmly established as state of the art approaches in sequence modeling and transduction problems such as language modeling and machine translation [ 35,2,5].\n",
      "Numerous efforts have since continued to push the boundaries of recurrent language models and encoder-decoder architectures [38, 24, 15].\n",
      "Recurrent models typically factor computation along the symbol positions of the input and output sequences.\n",
      "Aligning the positions to steps in computation time, they generate a sequence of hidden states ht, as a function of the previous hidden state ht−1and the input for position t. This inherently sequential nature precludes parallelization within training examples, which becomes critical at longer sequence lengths, as memory constraints limit batching across examples.\n",
      "Recent work has achieved significant improvements in computational efficiency through factorization tricks [21] and conditional computation [32], while also improving model performance in case of the latter.\n",
      "The fundamental constraint of sequential computation, however, remains.\n",
      "Attention mechanisms have become an integral part of compelling sequence modeling and transduc- tion models in various tasks, allowing modeling of dependencies without regard to their distance in the input or output sequences [ 2,19].\n",
      "In all but a few cases [27], however, such attention mechanisms are used in conjunction with a recurrent network.\n",
      "In this work we propose the Transformer, a model architecture eschewing recurrence and instead relying entirely on an attention mechanism to draw global dependencies between input and output.\n",
      "The Transformer allows for significantly more parallelization and can reach a new state of the art in translation quality after being trained for as little as twelve hours on eight P100 GPUs.\n",
      "2 Background The goal of reducing sequential computation also forms the foundation of the Extended Neural GPU [16], ByteNet [18] and ConvS2S [9], all of which use convolutional neural networks as basic building block, computing hidden representations in parallel for all input and output positions.\n",
      "In these models, the number of operations required to relate signals from two arbitrary input or output positions grows in the distance between positions, linearly for ConvS2S and logarithmically for ByteNet.\n",
      "This makes it more difficult to learn dependencies between distant positions [12].\n",
      "In the Transformer this is reduced to a constant number of operations, albeit at the cost of reduced effective resolution due to averaging attention-weighted positions, an effect we counteract with Multi-Head Attention as described in section 3.2.\n",
      "Self-attention, sometimes called intra-attention is an attention mechanism relating different positions of a single sequence in order to compute a representation of the sequence.\n",
      "Self-attention has been used successfully in a variety of tasks including reading comprehension, abstractive summarization, textual entailment and learning task-independent sentence representations [4, 27, 28, 22].\n",
      "End-to-end memory networks are based on a recurrent attention mechanism instead of sequence- aligned recurrence and have been shown to perform well on simple-language question answering and language modeling tasks [34].\n",
      "To the best of our knowledge, however, the Transformer is the first transduction model relying entirely on self-attention to compute representations of its input and output without using sequence- aligned RNNs or convolution.\n",
      "In the following sections, we will describe the Transformer, motivate self-attention and discuss its advantages over models such as [17, 18] and [9].\n",
      "3 Model Architecture Most competitive neural sequence transduction models have an encoder-decoder structure [ 5,2,35].\n",
      "Here, the encoder maps an input sequence of symbol representations (x1, ..., x n)to a sequence of continuous representations z= (z1, ..., z n).\n",
      "Given z, the decoder then generates an output sequence (y1, ..., y m)of symbols one element at a time.\n",
      "At each step the model is auto-regressive [10], consuming the previously generated symbols as additional input when generating the next.\n",
      "2\n"
     ]
    }
   ],
   "source": [
    "from nltk.tokenize import sent_tokenize\n",
    "\n",
    "\n",
    "def parse_sentencewise(page):\n",
    "    sentences = sent_tokenize(page)\n",
    "    #remove newlines\n",
    "    sentences = [s.replace('\\n', ' ') for s in sentences]\n",
    "    sentences = [adjust_bracket_spaces(s) for s in sentences]\n",
    "\n",
    "\n",
    "    # # Remove spaces between brackets and single numbers\n",
    "    # sentences = [re.sub(r'\\[\\s*(\\d+)\\s*\\]', r'[\\1]', s) for s in sentences]\n",
    "\n",
    "    # # Correct spaces around commas inside brackets\n",
    "    # sentences = [re.sub(r'(\\[\\d+)\\s*,\\s*(\\d+)', r'\\1, \\2', s) for s in sentences]\n",
    "\n",
    "    return sentences\n",
    "page = reader.pages[1]\n",
    "page = page.extract_text()\n",
    "sentences = parse_sentencewise(page)\n",
    "for s in sentences:\n",
    "    print(s)"
   ]
  },
  {
   "cell_type": "code",
   "execution_count": 5,
   "metadata": {},
   "outputs": [
    {
     "name": "stdout",
     "output_type": "stream",
     "text": [
      "1 Introduction Recurrent neural networks, long short-term memory [13] and gated recurrent [7] neural networks in particular, have been firmly established as state of the art approaches in sequence modeling and transduction problems such as language modeling and machine translation [ 35,2,5].\n",
      "Numerous efforts have since continued to push the boundaries of recurrent language models and encoder-decoder architectures [38, 24, 15].\n",
      "Recent work has achieved significant improvements in computational efficiency through factorization tricks [21] and conditional computation [32], while also improving model performance in case of the latter.\n",
      "Attention mechanisms have become an integral part of compelling sequence modeling and transduc- tion models in various tasks, allowing modeling of dependencies without regard to their distance in the input or output sequences [ 2,19].\n",
      "In all but a few cases [27], however, such attention mechanisms are used in conjunction with a recurrent network.\n",
      "2 Background The goal of reducing sequential computation also forms the foundation of the Extended Neural GPU [16], ByteNet [18] and ConvS2S [9], all of which use convolutional neural networks as basic building block, computing hidden representations in parallel for all input and output positions.\n",
      "This makes it more difficult to learn dependencies between distant positions [12].\n",
      "Self-attention has been used successfully in a variety of tasks including reading comprehension, abstractive summarization, textual entailment and learning task-independent sentence representations [4, 27, 28, 22].\n",
      "End-to-end memory networks are based on a recurrent attention mechanism instead of sequence- aligned recurrence and have been shown to perform well on simple-language question answering and language modeling tasks [34].\n",
      "In the following sections, we will describe the Transformer, motivate self-attention and discuss its advantages over models such as [17, 18] and [9].\n",
      "3 Model Architecture Most competitive neural sequence transduction models have an encoder-decoder structure [ 5,2,35].\n",
      "At each step the model is auto-regressive [10], consuming the previously generated symbols as additional input when generating the next.\n"
     ]
    }
   ],
   "source": [
    "# save sentences that have [number] in them\n",
    "import re\n",
    "def contains_integer_list(s):\n",
    "    return bool(re.search(r'\\[\\s*\\d+(?:\\s*,\\s*\\d+)+\\s*\\]', s))\n",
    "def get_sentences_with_reference(sentences):\n",
    "    sentences_with_reference = []\n",
    "    for sentence in sentences:\n",
    "        if contains_integer_list(sentence):\n",
    "            sentences_with_reference.append(sentence)\n",
    "            continue\n",
    "                 \n",
    "        elif re.search(r'\\[\\d+\\]', sentence):\n",
    "            sentences_with_reference.append(sentence)\n",
    "    return sentences_with_reference\n",
    "sourced_sentences = get_sentences_with_reference(sentences)\n",
    "for s in sourced_sentences:\n",
    "    print(s)"
   ]
  },
  {
   "cell_type": "code",
   "execution_count": 23,
   "metadata": {},
   "outputs": [
    {
     "data": {
      "text/plain": [
       "{'13': ['1 Introduction Recurrent neural networks, long short-term memory  and gated recurrent  neural networks in particular, have been firmly established as state of the art approaches in sequence modeling and transduction problems such as language modeling and machine translation .'],\n",
       " '7': ['1 Introduction Recurrent neural networks, long short-term memory  and gated recurrent  neural networks in particular, have been firmly established as state of the art approaches in sequence modeling and transduction problems such as language modeling and machine translation .'],\n",
       " '35': ['1 Introduction Recurrent neural networks, long short-term memory  and gated recurrent  neural networks in particular, have been firmly established as state of the art approaches in sequence modeling and transduction problems such as language modeling and machine translation .',\n",
       "  '3 Model Architecture Most competitive neural sequence transduction models have an encoder-decoder structure .'],\n",
       " '2': ['1 Introduction Recurrent neural networks, long short-term memory  and gated recurrent  neural networks in particular, have been firmly established as state of the art approaches in sequence modeling and transduction problems such as language modeling and machine translation .',\n",
       "  'Attention mechanisms have become an integral part of compelling sequence modeling and transduc- tion models in various tasks, allowing modeling of dependencies without regard to their distance in the input or output sequences .',\n",
       "  '3 Model Architecture Most competitive neural sequence transduction models have an encoder-decoder structure .'],\n",
       " '5': ['1 Introduction Recurrent neural networks, long short-term memory  and gated recurrent  neural networks in particular, have been firmly established as state of the art approaches in sequence modeling and transduction problems such as language modeling and machine translation .',\n",
       "  '3 Model Architecture Most competitive neural sequence transduction models have an encoder-decoder structure .'],\n",
       " '38': ['Numerous efforts have since continued to push the boundaries of recurrent language models and encoder-decoder architectures .'],\n",
       " '24': ['Numerous efforts have since continued to push the boundaries of recurrent language models and encoder-decoder architectures .'],\n",
       " '15': ['Numerous efforts have since continued to push the boundaries of recurrent language models and encoder-decoder architectures .'],\n",
       " '21': ['Recent work has achieved significant improvements in computational efficiency through factorization tricks  and conditional computation , while also improving model performance in case of the latter.'],\n",
       " '32': ['Recent work has achieved significant improvements in computational efficiency through factorization tricks  and conditional computation , while also improving model performance in case of the latter.'],\n",
       " '19': ['Attention mechanisms have become an integral part of compelling sequence modeling and transduc- tion models in various tasks, allowing modeling of dependencies without regard to their distance in the input or output sequences .'],\n",
       " '27': ['In all but a few cases , however, such attention mechanisms are used in conjunction with a recurrent network.',\n",
       "  'Self-attention has been used successfully in a variety of tasks including reading comprehension, abstractive summarization, textual entailment and learning task-independent sentence representations .'],\n",
       " '16': ['2 Background The goal of reducing sequential computation also forms the foundation of the Extended Neural GPU , ByteNet  and ConvS2S , all of which use convolutional neural networks as basic building block, computing hidden representations in parallel for all input and output positions.'],\n",
       " '18': ['2 Background The goal of reducing sequential computation also forms the foundation of the Extended Neural GPU , ByteNet  and ConvS2S , all of which use convolutional neural networks as basic building block, computing hidden representations in parallel for all input and output positions.',\n",
       "  'In the following sections, we will describe the Transformer, motivate self-attention and discuss its advantages over models such as  and .'],\n",
       " '9': ['2 Background The goal of reducing sequential computation also forms the foundation of the Extended Neural GPU , ByteNet  and ConvS2S , all of which use convolutional neural networks as basic building block, computing hidden representations in parallel for all input and output positions.',\n",
       "  'In the following sections, we will describe the Transformer, motivate self-attention and discuss its advantages over models such as  and .'],\n",
       " '12': ['This makes it more difficult to learn dependencies between distant positions .'],\n",
       " '4': ['Self-attention has been used successfully in a variety of tasks including reading comprehension, abstractive summarization, textual entailment and learning task-independent sentence representations .'],\n",
       " '28': ['Self-attention has been used successfully in a variety of tasks including reading comprehension, abstractive summarization, textual entailment and learning task-independent sentence representations .'],\n",
       " '22': ['Self-attention has been used successfully in a variety of tasks including reading comprehension, abstractive summarization, textual entailment and learning task-independent sentence representations .'],\n",
       " '34': ['End-to-end memory networks are based on a recurrent attention mechanism instead of sequence- aligned recurrence and have been shown to perform well on simple-language question answering and language modeling tasks .'],\n",
       " '17': ['In the following sections, we will describe the Transformer, motivate self-attention and discuss its advantages over models such as  and .'],\n",
       " '10': ['At each step the model is auto-regressive , consuming the previously generated symbols as additional input when generating the next.']}"
      ]
     },
     "execution_count": 23,
     "metadata": {},
     "output_type": "execute_result"
    }
   ],
   "source": [
    "def create_reference_dict(sourced_sentences):\n",
    "    reference_dict = {}\n",
    "    for sentence in sourced_sentences:\n",
    "        #print(sentence)\n",
    "        # retrieve string between brackets\n",
    "        reference = re.findall(r'\\[(.*?)\\]', sentence)\n",
    "        #print(reference)\n",
    "        removed_reference = re.sub(r'\\[(.*?)\\]', '', sentence)\n",
    "        for r in reference:\n",
    "            # split by comma\n",
    "            r = r.split(',')\n",
    "            # remove spaces\n",
    "            r = [i.strip() for i in r]\n",
    "            for i in r:\n",
    "                if i not in reference_dict:\n",
    "                    reference_dict[i] = [removed_reference]\n",
    "                else:\n",
    "                    reference_dict[i].append(removed_reference)\n",
    "    return reference_dict\n",
    "\n",
    "create_reference_dict(sourced_sentences)\n"
   ]
  },
  {
   "cell_type": "code",
   "execution_count": 24,
   "metadata": {},
   "outputs": [],
   "source": [
    "def retrieve_reference_dicts(reader):\n",
    "    reference_dicts = []\n",
    "    for page in reader.pages:\n",
    "        page = page.extract_text()\n",
    "        sentences = parse_sentencewise(page)\n",
    "        sourced_sentences = get_sentences_with_reference(sentences)\n",
    "        reference_dict = create_reference_dict(sourced_sentences)\n",
    "        reference_dicts.append(reference_dict)\n",
    "    return reference_dicts\n",
    "\n",
    "reference_dicts = retrieve_reference_dicts(reader)"
   ]
  },
  {
   "cell_type": "code",
   "execution_count": 28,
   "metadata": {},
   "outputs": [
    {
     "name": "stdout",
     "output_type": "stream",
     "text": [
      "{'9': ['There are many choices of positional encodings, learned and fixed .', 'We also experimented with using learned positional embeddings  instead, and found that the two versions produced nearly identical results (see Table 3 row (E)).'], '12': ['The shorter these paths between any combination of positions in the input and output sequences, the easier it is to learn long-range dependencies .']}\n"
     ]
    }
   ],
   "source": [
    "print(reference_dicts[-10])"
   ]
  },
  {
   "cell_type": "code",
   "execution_count": 6,
   "metadata": {},
   "outputs": [
    {
     "name": "stdout",
     "output_type": "stream",
     "text": [
      "['[1] Jimmy Lei Ba, Jamie Ryan Kiros, and Geoffrey E Hinton. Layer normalization. arXiv preprint\\n\\narXiv:1607.06450, 2016.\\n', '[2] Dzmitry Bahdanau, Kyunghyun Cho, and Yoshua Bengio. Neural machine translation by jointly\\n\\nlearning to align and translate. CoRR, abs/1409.0473, 2014.\\n', '[3] Denny Britz, Anna Goldie, Minh-Thang Luong, and Quoc V. Le. Massive exploration of neural\\n\\nmachine translation architectures. CoRR, abs/1703.03906, 2017.\\n', '[4] Jianpeng Cheng, Li Dong, and Mirella Lapata. Long short-term memory-networks for machine\\n\\nreading. arXiv preprint arXiv:1601.06733, 2016.\\n', '10\\n\\n\\x0c[5] Kyunghyun Cho, Bart van Merrienboer, Caglar Gulcehre, Fethi Bougares, Holger Schwenk,\\nand Yoshua Bengio. Learning phrase representations using rnn encoder-decoder for statistical\\nmachine translation. CoRR, abs/1406.1078, 2014.\\n', '[6] Francois Chollet. Xception: Deep learning with depthwise separable convolutions. arXiv\\n\\npreprint arXiv:1610.02357, 2016.\\n', '[7] Junyoung Chung, Çaglar Gülçehre, Kyunghyun Cho, and Yoshua Bengio. Empirical evaluation\\nof gated recurrent neural networks on sequence modeling. CoRR, abs/1412.3555, 2014.\\n', '[8] Chris Dyer, Adhiguna Kuncoro, Miguel Ballesteros, and Noah A. Smith. Recurrent neural\\n\\nnetwork grammars. In Proc. of NAACL, 2016.\\n', '[9] Jonas Gehring, Michael Auli, David Grangier, Denis Yarats, and Yann N. Dauphin. Convolu-\\n\\ntional sequence to sequence learning. arXiv preprint arXiv:1705.03122v2, 2017.\\n', '[10] Alex Graves. Generating sequences with recurrent neural networks.\\n\\narXiv preprint\\n\\narXiv:1308.0850, 2013.\\n', '[11] Kaiming He, Xiangyu Zhang, Shaoqing Ren, and Jian Sun. Deep residual learning for im-\\nage recognition. In Proceedings of the IEEE Conference on Computer Vision and Pattern\\nRecognition, pages 770–778, 2016.\\n', '[12] Sepp Hochreiter, Yoshua Bengio, Paolo Frasconi, and Jürgen Schmidhuber. Gradient flow in\\n\\nrecurrent nets: the difficulty of learning long-term dependencies, 2001.\\n', '[13] Sepp Hochreiter and Jürgen Schmidhuber. Long short-term memory. Neural computation,\\n', '9(8):1735–1780, 1997.\\n', '[14] Zhongqiang Huang and Mary Harper. Self-training PCFG grammars with latent annotations\\nacross languages. In Proceedings of the 2009 Conference on Empirical Methods in Natural\\nLanguage Processing, pages 832–841. ACL, August 2009.\\n', '[15] Rafal Jozefowicz, Oriol Vinyals, Mike Schuster, Noam Shazeer, and Yonghui Wu. Exploring\\n\\nthe limits of language modeling. arXiv preprint arXiv:1602.02410, 2016.\\n', '[16] Łukasz Kaiser and Samy Bengio. Can active memory replace attention? In Advances in Neural\\n\\nInformation Processing Systems, (NIPS), 2016.\\n', '[17] Łukasz Kaiser and Ilya Sutskever. Neural GPUs learn algorithms. In International Conference\\n\\non Learning Representations (ICLR), 2016.\\n', '[18] Nal Kalchbrenner, Lasse Espeholt, Karen Simonyan, Aaron van den Oord, Alex Graves, and Ko-\\nray Kavukcuoglu. Neural machine translation in linear time. arXiv preprint arXiv:1610.10099v2,', '2017.\\n', '[19] Yoon Kim, Carl Denton, Luong Hoang, and Alexander M. Rush. Structured attention networks.\\n\\nIn International Conference on Learning Representations, 2017.\\n', '[20] Diederik Kingma and Jimmy Ba. Adam: A method for stochastic optimization. In ICLR, 2015.\\n', '[21] Oleksii Kuchaiev and Boris Ginsburg. Factorization tricks for LSTM networks. arXiv preprint\\n\\narXiv:1703.10722, 2017.\\n', '[22] Zhouhan Lin, Minwei Feng, Cicero Nogueira dos Santos, Mo Yu, Bing Xiang, Bowen\\nZhou, and Yoshua Bengio. A structured self-attentive sentence embedding. arXiv preprint\\narXiv:1703.03130, 2017.\\n', '[23] Minh-Thang Luong, Quoc V. Le, Ilya Sutskever, Oriol Vinyals, and Lukasz Kaiser. Multi-task\\n\\nsequence to sequence learning. arXiv preprint arXiv:1511.06114, 2015.\\n', '[24] Minh-Thang Luong, Hieu Pham, and Christopher D Manning. Effective approaches to attention-\\n\\nbased neural machine translation. arXiv preprint arXiv:1508.04025, 2015.\\n', '11\\n\\n\\x0c[25] Mitchell P Marcus, Mary Ann Marcinkiewicz, and Beatrice Santorini. Building a large annotated\\ncorpus of english: The penn treebank. Computational linguistics, 19(2):313–330, 1993.\\n', '[26] David McClosky, Eugene Charniak, and Mark Johnson. Effective self-training for parsing. In\\nProceedings of the Human Language Technology Conference of the NAACL, Main Conference,\\npages 152–159. ACL, June 2006.\\n', '[27] Ankur Parikh, Oscar Täckström, Dipanjan Das, and Jakob Uszkoreit. A decomposable attention\\n\\nmodel. In Empirical Methods in Natural Language Processing, 2016.\\n', '[28] Romain Paulus, Caiming Xiong, and Richard Socher. A deep reinforced model for abstractive\\n\\nsummarization. arXiv preprint arXiv:1705.04304, 2017.\\n', '[29] Slav Petrov, Leon Barrett, Romain Thibaux, and Dan Klein. Learning accurate, compact,\\nand interpretable tree annotation. In Proceedings of the 21st International Conference on\\nComputational Linguistics and 44th Annual Meeting of the ACL, pages 433–440. ACL, July', '2006.\\n', '[30] Ofir Press and Lior Wolf. Using the output embedding to improve language models. arXiv\\n\\npreprint arXiv:1608.05859, 2016.\\n', '[31] Rico Sennrich, Barry Haddow, and Alexandra Birch. Neural machine translation of rare words\\n\\nwith subword units. arXiv preprint arXiv:1508.07909, 2015.\\n', '[32] Noam Shazeer, Azalia Mirhoseini, Krzysztof Maziarz, Andy Davis, Quoc Le, Geoffrey Hinton,\\nand Jeff Dean. Outrageously large neural networks: The sparsely-gated mixture-of-experts\\nlayer. arXiv preprint arXiv:1701.06538, 2017.\\n', '[33] Nitish Srivastava, Geoffrey E Hinton, Alex Krizhevsky, Ilya Sutskever, and Ruslan Salakhutdi-\\nnov. Dropout: a simple way to prevent neural networks from overfitting. Journal of Machine\\nLearning Research, 15(1):1929–1958, 2014.\\n', '[34] Sainbayar Sukhbaatar, Arthur Szlam, Jason Weston, and Rob Fergus. End-to-end memory\\nnetworks. In C. Cortes, N. D. Lawrence, D. D. Lee, M. Sugiyama, and R. Garnett, editors,\\nAdvances in Neural Information Processing Systems 28, pages 2440–2448. Curran Associates,\\nInc., 2015.\\n', '[35] Ilya Sutskever, Oriol Vinyals, and Quoc VV Le. Sequence to sequence learning with neural\\n\\nnetworks. In Advances in Neural Information Processing Systems, pages 3104–3112, 2014.\\n', '[36] Christian Szegedy, Vincent Vanhoucke, Sergey Ioffe, Jonathon Shlens, and Zbigniew Wojna.\\nRethinking the inception architecture for computer vision. CoRR, abs/1512.00567, 2015.\\n', '[37] Vinyals & Kaiser, Koo, Petrov, Sutskever, and Hinton. Grammar as a foreign language. In\\n\\nAdvances in Neural Information Processing Systems, 2015.\\n', '[38] Yonghui Wu, Mike Schuster, Zhifeng Chen, Quoc V Le, Mohammad Norouzi, Wolfgang\\nMacherey, Maxim Krikun, Yuan Cao, Qin Gao, Klaus Macherey, et al. Google’s neural machine\\ntranslation system: Bridging the gap between human and machine translation. arXiv preprint\\narXiv:1609.08144, 2016.\\n', '[39] Jie Zhou, Ying Cao, Xuguang Wang, Peng Li, and Wei Xu. Deep recurrent models with\\nfast-forward connections for neural machine translation. CoRR, abs/1606.04199, 2016.\\n', '[40] Muhua Zhu, Yue Zhang, Wenliang Chen, Min Zhang, and Jingbo Zhu. Fast and accurate\\nshift-reduce constituent parsing. In Proceedings of the 51st Annual Meeting of the ACL (Volume', '1: Long Papers), pages 434–443. ACL, August 2013.\\n', '12\\n\\n\\x0cAttention Visualizations\\n\\nFigure 3: An example of the attention mechanism following long-distance dependencies in the\\nencoder self-attention in layer 5 of 6. Many of the attention heads attend to a distant dependency of\\nthe verb ‘making’, completing the phrase ‘making...more difficult’. Attentions here shown only for\\nthe word ‘making’. Different colors represent different heads. Best viewed in color.\\n', '13\\n\\nInput-Input Layer5ItisinthisspiritthatamajorityofAmericangovernmentshavepassednewlawssince2009makingtheregistrationorvotingprocessmoredifficult.<EOS><pad><pad><pad><pad><pad><pad>ItisinthisspiritthatamajorityofAmericangovernmentshavepassednewlawssince2009makingtheregistrationorvotingprocessmoredifficult.<EOS><pad><pad><pad><pad><pad><pad>\\x0cFigure 4: Two attention heads, also in layer 5 of 6, apparently involved in anaphora resolution. Top:\\nFull attentions for head 5. Bottom: Isolated attentions from just the word ‘its’ for attention heads 5\\nand 6. Note that the attentions are very sharp for this word.\\n', '14\\n\\nInput-Input Layer5TheLawwillneverbeperfect,butitsapplicationshouldbejust-thisiswhatwearemissing,inmyopinion.<EOS><pad>TheLawwillneverbeperfect,butitsapplicationshouldbejust-thisiswhatwearemissing,inmyopinion.<EOS><pad>Input-Input Layer5TheLawwillneverbeperfect,butitsapplicationshouldbejust-thisiswhatwearemissing,inmyopinion.<EOS><pad>TheLawwillneverbeperfect,butitsapplicationshouldbejust-thisiswhatwearemissing,inmyopinion.<EOS><pad>\\x0cFigure 5: Many of the attention heads exhibit behaviour that seems related to the structure of the\\nsentence. We give two such examples above, from two different heads from the encoder self-attention\\nat layer 5 of 6. The heads clearly learned to perform different tasks.\\n', '15\\n\\nInput-Input Layer5TheLawwillneverbeperfect,butitsapplicationshouldbejust-thisiswhatwearemissing,inmyopinion.<EOS><pad>TheLawwillneverbeperfect,butitsapplicationshouldbejust-thisiswhatwearemissing,inmyopinion.<EOS><pad>Input-Input Layer5TheLawwillneverbeperfect,butitsapplicationshouldbejust-thisiswhatwearemissing,inmyopinion.<EOS><pad>TheLawwillneverbeperfect,butitsapplicationshouldbejust-thisiswhatwearemissing,inmyopinion.<EOS><pad>\\x0c']\n"
     ]
    }
   ],
   "source": [
    "from pdfminer.high_level import extract_text\n",
    "\n",
    "def extract_references_from_pdf(pdf_path):\n",
    "    # Extract text from the PDF\n",
    "    text = extract_text(pdf_path)\n",
    "\n",
    "    # Find the references section (this can be adjusted based on common patterns)\n",
    "    references_start = re.search(r'\\b(References|Bibliography|Works Cited)\\b', text)\n",
    "    \n",
    "    if not references_start:\n",
    "        print(\"References section not found.\")\n",
    "        return\n",
    "\n",
    "    # Extract the references section (assuming the rest of the document after 'References' is the references section)\n",
    "    references_text = text[references_start.start():]\n",
    "\n",
    "    # Split references into individual entries (this is a basic split on numbers. You may need to adjust this regex)\n",
    "    references = re.split(r'\\n(?=\\[?\\d+\\]?\\.?)', references_text)\n",
    "\n",
    "    return references[1:]  # the first item is the \"References\" title\n",
    "\n",
    "pdf_path = \"attention_paper.pdf\"\n",
    "references = extract_references_from_pdf(pdf_path)\n",
    "print(references)"
   ]
  },
  {
   "cell_type": "code",
   "execution_count": 9,
   "metadata": {},
   "outputs": [],
   "source": [
    "def get_references_only(references):\n",
    "    references_only = []\n",
    "    for reference in references:\n",
    "        if '[' in reference:\n",
    "            item = reference.split('[')[1]\n",
    "            item = '[' + item\n",
    "            references_only.append(item)\n",
    "    return references_only\n",
    "\n",
    "references_only = get_references_only(references)\n"
   ]
  },
  {
   "cell_type": "code",
   "execution_count": 10,
   "metadata": {},
   "outputs": [],
   "source": [
    "#get item that looks like ****.****\n",
    "def get_arxiv_number(reference):\n",
    "    # Extract the arXiv number\n",
    "    arxiv_number = re.search(r'arXiv:\\d{4}\\.\\d{4,5}(v\\d+)?', reference)\n",
    "    # get rid of arxiv: in the string\n",
    "    if arxiv_number:\n",
    "        arxiv_number = arxiv_number.group(0)[6:]\n",
    "        return arxiv_number\n",
    "    ref_number = re.search(r'abs/\\d{4}\\.\\d{4,5}(v\\d+)?', reference)\n",
    "    if ref_number:\n",
    "        ref_number = ref_number.group(0)[4:]\n",
    "        return ref_number\n",
    "    return None"
   ]
  },
  {
   "cell_type": "code",
   "execution_count": 12,
   "metadata": {},
   "outputs": [
    {
     "name": "stdout",
     "output_type": "stream",
     "text": [
      "['1607.06450', '1409.0473', '1703.03906', '1601.06733', '1406.1078', '1610.02357', '1412.3555', None, '1705.03122v2', '1308.0850', None, None, None, None, '1602.02410', None, None, '1610.10099v2', None, None, '1703.10722', '1703.03130', '1511.06114', '1508.04025', None, None, None, '1705.04304', None, '1608.05859', '1508.07909', '1701.06538', None, None, None, '1512.00567', None, '1609.08144', '1606.04199', None]\n"
     ]
    }
   ],
   "source": [
    "arxiv_numbers = [get_arxiv_number(reference) for reference in references_only]\n",
    "\n",
    "def get_axiv_numbers_from_pdf(pdf_path):\n",
    "    references = extract_references_from_pdf(pdf_path)\n",
    "    references_only = get_references_only(references)\n",
    "    arxiv_numbers = [get_arxiv_number(reference) for reference in references_only]\n",
    "    return arxiv_numbers\n",
    "\n",
    "arxiv_numbers = get_axiv_numbers_from_pdf(\"attention_paper.pdf\")\n",
    "print(arxiv_numbers)"
   ]
  },
  {
   "cell_type": "code",
   "execution_count": null,
   "metadata": {},
   "outputs": [],
   "source": []
  }
 ],
 "metadata": {
  "kernelspec": {
   "display_name": "Python 3",
   "language": "python",
   "name": "python3"
  },
  "language_info": {
   "codemirror_mode": {
    "name": "ipython",
    "version": 3
   },
   "file_extension": ".py",
   "mimetype": "text/x-python",
   "name": "python",
   "nbconvert_exporter": "python",
   "pygments_lexer": "ipython3",
   "version": "3.11.3"
  },
  "orig_nbformat": 4
 },
 "nbformat": 4,
 "nbformat_minor": 2
}
